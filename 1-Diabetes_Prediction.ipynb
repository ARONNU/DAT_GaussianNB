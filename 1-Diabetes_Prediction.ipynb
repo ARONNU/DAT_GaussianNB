{
  "nbformat": 4,
  "nbformat_minor": 0,
  "metadata": {
    "colab": {
      "provenance": []
    },
    "kernelspec": {
      "name": "python3",
      "display_name": "Python 3"
    },
    "language_info": {
      "name": "python"
    }
  },
  "cells": [
    {
      "cell_type": "markdown",
      "source": [
        "# Installing and Importing necessary Packages\n"
      ],
      "metadata": {
        "id": "lXDb-BCfJTo6"
      }
    },
    {
      "cell_type": "code",
      "source": [
        "!pip install -U scikit-learn\n"
      ],
      "metadata": {
        "colab": {
          "base_uri": "https://localhost:8080/"
        },
        "id": "hd3ln0pDEMwN",
        "outputId": "13f272cb-50f2-434e-eb51-7f89d000a1a5"
      },
      "execution_count": null,
      "outputs": [
        {
          "output_type": "stream",
          "name": "stdout",
          "text": [
            "Looking in indexes: https://pypi.org/simple, https://us-python.pkg.dev/colab-wheels/public/simple/\n",
            "Requirement already satisfied: scikit-learn in /usr/local/lib/python3.9/dist-packages (1.2.2)\n",
            "Requirement already satisfied: scipy>=1.3.2 in /usr/local/lib/python3.9/dist-packages (from scikit-learn) (1.10.1)\n",
            "Requirement already satisfied: numpy>=1.17.3 in /usr/local/lib/python3.9/dist-packages (from scikit-learn) (1.22.4)\n",
            "Requirement already satisfied: threadpoolctl>=2.0.0 in /usr/local/lib/python3.9/dist-packages (from scikit-learn) (3.1.0)\n",
            "Requirement already satisfied: joblib>=1.1.1 in /usr/local/lib/python3.9/dist-packages (from scikit-learn) (1.2.0)\n"
          ]
        }
      ]
    },
    {
      "cell_type": "code",
      "source": [
        "from google.colab import drive\n",
        "drive.mount('/content/drive')"
      ],
      "metadata": {
        "colab": {
          "base_uri": "https://localhost:8080/"
        },
        "id": "20ZCd_cAZdnr",
        "outputId": "3e2124a7-479e-4e97-8ee9-aae0b8a51dc1"
      },
      "execution_count": null,
      "outputs": [
        {
          "output_type": "stream",
          "name": "stdout",
          "text": [
            "Drive already mounted at /content/drive; to attempt to forcibly remount, call drive.mount(\"/content/drive\", force_remount=True).\n"
          ]
        }
      ]
    },
    {
      "cell_type": "code",
      "execution_count": null,
      "metadata": {
        "id": "1mF1_9paC2ep"
      },
      "outputs": [],
      "source": [
        "import pandas as pd\n",
        "import numpy as np\n",
        "from sklearn.model_selection import train_test_split\n",
        "from sklearn.naive_bayes import GaussianNB\n",
        "from sklearn.metrics import accuracy_score, confusion_matrix\n",
        "from sklearn import metrics\n",
        "from random import randint\n",
        "\n",
        "# removing the lines below will introduce gaussian naive beyes input feature warning\n",
        "# but everything still works fine\n",
        "import warnings\n",
        "warnings.filterwarnings(\"ignore\", category=UserWarning)\n"
      ]
    },
    {
      "cell_type": "markdown",
      "source": [],
      "metadata": {
        "id": "LDcOo6eHXSaZ"
      }
    },
    {
      "cell_type": "markdown",
      "source": [
        "#**Diabetes Dataset**\n",
        "this set of data is composed of the glucose amount and bloodpressure to know if the patient has a diabetes."
      ],
      "metadata": {
        "id": "ReRfClwUOyu-"
      }
    },
    {
      "cell_type": "markdown",
      "source": [
        "#Reading Dataset"
      ],
      "metadata": {
        "id": "uvDtu8w1KXNb"
      }
    },
    {
      "cell_type": "markdown",
      "source": [],
      "metadata": {
        "id": "Uwu0-fBTPFvt"
      }
    },
    {
      "cell_type": "code",
      "source": [
        "df = pd.read_csv('/content/fexp1/Naive-Bayes-Classification-Data.csv')\n",
        "df"
      ],
      "metadata": {
        "colab": {
          "base_uri": "https://localhost:8080/",
          "height": 424
        },
        "id": "Ma7-w895EVw9",
        "outputId": "b56b10bb-26fa-4fca-ffe9-123fbd7780f0"
      },
      "execution_count": null,
      "outputs": [
        {
          "output_type": "execute_result",
          "data": {
            "text/plain": [
              "     Glucose  BloodPressure  Diabetes\n",
              "0        148             72         1\n",
              "1         85             66         0\n",
              "2        183             64         1\n",
              "3         89             66         0\n",
              "4        137             40         1\n",
              "..       ...            ...       ...\n",
              "990      113             80         0\n",
              "991      138             82         0\n",
              "992      108             68         0\n",
              "993       99             70         0\n",
              "994      103             72         0\n",
              "\n",
              "[995 rows x 3 columns]"
            ],
            "text/html": [
              "\n",
              "  <div id=\"df-38cbe721-44bc-4f80-8d57-25a043ef66b0\">\n",
              "    <div class=\"colab-df-container\">\n",
              "      <div>\n",
              "<style scoped>\n",
              "    .dataframe tbody tr th:only-of-type {\n",
              "        vertical-align: middle;\n",
              "    }\n",
              "\n",
              "    .dataframe tbody tr th {\n",
              "        vertical-align: top;\n",
              "    }\n",
              "\n",
              "    .dataframe thead th {\n",
              "        text-align: right;\n",
              "    }\n",
              "</style>\n",
              "<table border=\"1\" class=\"dataframe\">\n",
              "  <thead>\n",
              "    <tr style=\"text-align: right;\">\n",
              "      <th></th>\n",
              "      <th>Glucose</th>\n",
              "      <th>BloodPressure</th>\n",
              "      <th>Diabetes</th>\n",
              "    </tr>\n",
              "  </thead>\n",
              "  <tbody>\n",
              "    <tr>\n",
              "      <th>0</th>\n",
              "      <td>148</td>\n",
              "      <td>72</td>\n",
              "      <td>1</td>\n",
              "    </tr>\n",
              "    <tr>\n",
              "      <th>1</th>\n",
              "      <td>85</td>\n",
              "      <td>66</td>\n",
              "      <td>0</td>\n",
              "    </tr>\n",
              "    <tr>\n",
              "      <th>2</th>\n",
              "      <td>183</td>\n",
              "      <td>64</td>\n",
              "      <td>1</td>\n",
              "    </tr>\n",
              "    <tr>\n",
              "      <th>3</th>\n",
              "      <td>89</td>\n",
              "      <td>66</td>\n",
              "      <td>0</td>\n",
              "    </tr>\n",
              "    <tr>\n",
              "      <th>4</th>\n",
              "      <td>137</td>\n",
              "      <td>40</td>\n",
              "      <td>1</td>\n",
              "    </tr>\n",
              "    <tr>\n",
              "      <th>...</th>\n",
              "      <td>...</td>\n",
              "      <td>...</td>\n",
              "      <td>...</td>\n",
              "    </tr>\n",
              "    <tr>\n",
              "      <th>990</th>\n",
              "      <td>113</td>\n",
              "      <td>80</td>\n",
              "      <td>0</td>\n",
              "    </tr>\n",
              "    <tr>\n",
              "      <th>991</th>\n",
              "      <td>138</td>\n",
              "      <td>82</td>\n",
              "      <td>0</td>\n",
              "    </tr>\n",
              "    <tr>\n",
              "      <th>992</th>\n",
              "      <td>108</td>\n",
              "      <td>68</td>\n",
              "      <td>0</td>\n",
              "    </tr>\n",
              "    <tr>\n",
              "      <th>993</th>\n",
              "      <td>99</td>\n",
              "      <td>70</td>\n",
              "      <td>0</td>\n",
              "    </tr>\n",
              "    <tr>\n",
              "      <th>994</th>\n",
              "      <td>103</td>\n",
              "      <td>72</td>\n",
              "      <td>0</td>\n",
              "    </tr>\n",
              "  </tbody>\n",
              "</table>\n",
              "<p>995 rows × 3 columns</p>\n",
              "</div>\n",
              "      <button class=\"colab-df-convert\" onclick=\"convertToInteractive('df-38cbe721-44bc-4f80-8d57-25a043ef66b0')\"\n",
              "              title=\"Convert this dataframe to an interactive table.\"\n",
              "              style=\"display:none;\">\n",
              "        \n",
              "  <svg xmlns=\"http://www.w3.org/2000/svg\" height=\"24px\"viewBox=\"0 0 24 24\"\n",
              "       width=\"24px\">\n",
              "    <path d=\"M0 0h24v24H0V0z\" fill=\"none\"/>\n",
              "    <path d=\"M18.56 5.44l.94 2.06.94-2.06 2.06-.94-2.06-.94-.94-2.06-.94 2.06-2.06.94zm-11 1L8.5 8.5l.94-2.06 2.06-.94-2.06-.94L8.5 2.5l-.94 2.06-2.06.94zm10 10l.94 2.06.94-2.06 2.06-.94-2.06-.94-.94-2.06-.94 2.06-2.06.94z\"/><path d=\"M17.41 7.96l-1.37-1.37c-.4-.4-.92-.59-1.43-.59-.52 0-1.04.2-1.43.59L10.3 9.45l-7.72 7.72c-.78.78-.78 2.05 0 2.83L4 21.41c.39.39.9.59 1.41.59.51 0 1.02-.2 1.41-.59l7.78-7.78 2.81-2.81c.8-.78.8-2.07 0-2.86zM5.41 20L4 18.59l7.72-7.72 1.47 1.35L5.41 20z\"/>\n",
              "  </svg>\n",
              "      </button>\n",
              "      \n",
              "  <style>\n",
              "    .colab-df-container {\n",
              "      display:flex;\n",
              "      flex-wrap:wrap;\n",
              "      gap: 12px;\n",
              "    }\n",
              "\n",
              "    .colab-df-convert {\n",
              "      background-color: #E8F0FE;\n",
              "      border: none;\n",
              "      border-radius: 50%;\n",
              "      cursor: pointer;\n",
              "      display: none;\n",
              "      fill: #1967D2;\n",
              "      height: 32px;\n",
              "      padding: 0 0 0 0;\n",
              "      width: 32px;\n",
              "    }\n",
              "\n",
              "    .colab-df-convert:hover {\n",
              "      background-color: #E2EBFA;\n",
              "      box-shadow: 0px 1px 2px rgba(60, 64, 67, 0.3), 0px 1px 3px 1px rgba(60, 64, 67, 0.15);\n",
              "      fill: #174EA6;\n",
              "    }\n",
              "\n",
              "    [theme=dark] .colab-df-convert {\n",
              "      background-color: #3B4455;\n",
              "      fill: #D2E3FC;\n",
              "    }\n",
              "\n",
              "    [theme=dark] .colab-df-convert:hover {\n",
              "      background-color: #434B5C;\n",
              "      box-shadow: 0px 1px 3px 1px rgba(0, 0, 0, 0.15);\n",
              "      filter: drop-shadow(0px 1px 2px rgba(0, 0, 0, 0.3));\n",
              "      fill: #FFFFFF;\n",
              "    }\n",
              "  </style>\n",
              "\n",
              "      <script>\n",
              "        const buttonEl =\n",
              "          document.querySelector('#df-38cbe721-44bc-4f80-8d57-25a043ef66b0 button.colab-df-convert');\n",
              "        buttonEl.style.display =\n",
              "          google.colab.kernel.accessAllowed ? 'block' : 'none';\n",
              "\n",
              "        async function convertToInteractive(key) {\n",
              "          const element = document.querySelector('#df-38cbe721-44bc-4f80-8d57-25a043ef66b0');\n",
              "          const dataTable =\n",
              "            await google.colab.kernel.invokeFunction('convertToInteractive',\n",
              "                                                     [key], {});\n",
              "          if (!dataTable) return;\n",
              "\n",
              "          const docLinkHtml = 'Like what you see? Visit the ' +\n",
              "            '<a target=\"_blank\" href=https://colab.research.google.com/notebooks/data_table.ipynb>data table notebook</a>'\n",
              "            + ' to learn more about interactive tables.';\n",
              "          element.innerHTML = '';\n",
              "          dataTable['output_type'] = 'display_data';\n",
              "          await google.colab.output.renderOutput(dataTable, element);\n",
              "          const docLink = document.createElement('div');\n",
              "          docLink.innerHTML = docLinkHtml;\n",
              "          element.appendChild(docLink);\n",
              "        }\n",
              "      </script>\n",
              "    </div>\n",
              "  </div>\n",
              "  "
            ]
          },
          "metadata": {},
          "execution_count": 4
        }
      ]
    },
    {
      "cell_type": "markdown",
      "source": [
        "#Training the Model\n"
      ],
      "metadata": {
        "id": "pgrsGSi7NROJ"
      }
    },
    {
      "cell_type": "code",
      "source": [
        "x = df.drop('Diabetes', axis = 1)\n",
        "y = df['Diabetes']"
      ],
      "metadata": {
        "id": "HcLXARvSLp9r"
      },
      "execution_count": null,
      "outputs": []
    },
    {
      "cell_type": "code",
      "source": [
        "from sklearn.model_selection import train_test_split"
      ],
      "metadata": {
        "id": "RA9Bp5HzKWhI"
      },
      "execution_count": null,
      "outputs": []
    },
    {
      "cell_type": "code",
      "source": [
        "x_train, x_test, y_train, y_test =train_test_split(x,y,test_size=0.2)"
      ],
      "metadata": {
        "id": "f66OQ2pjLZge"
      },
      "execution_count": null,
      "outputs": []
    },
    {
      "cell_type": "code",
      "source": [
        "x_train"
      ],
      "metadata": {
        "colab": {
          "base_uri": "https://localhost:8080/",
          "height": 424
        },
        "id": "0ZVsRhS7M5iB",
        "outputId": "366e4e1c-ef82-4784-bbf9-dd26e28ff8fe"
      },
      "execution_count": null,
      "outputs": [
        {
          "output_type": "execute_result",
          "data": {
            "text/plain": [
              "     Glucose  BloodPressure\n",
              "567       92             62\n",
              "989      148             60\n",
              "614      138             74\n",
              "224      100             66\n",
              "336      117              0\n",
              "..       ...            ...\n",
              "264      123             62\n",
              "414      138             60\n",
              "77        95             72\n",
              "530      122             60\n",
              "285      136             74\n",
              "\n",
              "[796 rows x 2 columns]"
            ],
            "text/html": [
              "\n",
              "  <div id=\"df-527a9dda-ca37-468a-a380-5bbb6570a814\">\n",
              "    <div class=\"colab-df-container\">\n",
              "      <div>\n",
              "<style scoped>\n",
              "    .dataframe tbody tr th:only-of-type {\n",
              "        vertical-align: middle;\n",
              "    }\n",
              "\n",
              "    .dataframe tbody tr th {\n",
              "        vertical-align: top;\n",
              "    }\n",
              "\n",
              "    .dataframe thead th {\n",
              "        text-align: right;\n",
              "    }\n",
              "</style>\n",
              "<table border=\"1\" class=\"dataframe\">\n",
              "  <thead>\n",
              "    <tr style=\"text-align: right;\">\n",
              "      <th></th>\n",
              "      <th>Glucose</th>\n",
              "      <th>BloodPressure</th>\n",
              "    </tr>\n",
              "  </thead>\n",
              "  <tbody>\n",
              "    <tr>\n",
              "      <th>567</th>\n",
              "      <td>92</td>\n",
              "      <td>62</td>\n",
              "    </tr>\n",
              "    <tr>\n",
              "      <th>989</th>\n",
              "      <td>148</td>\n",
              "      <td>60</td>\n",
              "    </tr>\n",
              "    <tr>\n",
              "      <th>614</th>\n",
              "      <td>138</td>\n",
              "      <td>74</td>\n",
              "    </tr>\n",
              "    <tr>\n",
              "      <th>224</th>\n",
              "      <td>100</td>\n",
              "      <td>66</td>\n",
              "    </tr>\n",
              "    <tr>\n",
              "      <th>336</th>\n",
              "      <td>117</td>\n",
              "      <td>0</td>\n",
              "    </tr>\n",
              "    <tr>\n",
              "      <th>...</th>\n",
              "      <td>...</td>\n",
              "      <td>...</td>\n",
              "    </tr>\n",
              "    <tr>\n",
              "      <th>264</th>\n",
              "      <td>123</td>\n",
              "      <td>62</td>\n",
              "    </tr>\n",
              "    <tr>\n",
              "      <th>414</th>\n",
              "      <td>138</td>\n",
              "      <td>60</td>\n",
              "    </tr>\n",
              "    <tr>\n",
              "      <th>77</th>\n",
              "      <td>95</td>\n",
              "      <td>72</td>\n",
              "    </tr>\n",
              "    <tr>\n",
              "      <th>530</th>\n",
              "      <td>122</td>\n",
              "      <td>60</td>\n",
              "    </tr>\n",
              "    <tr>\n",
              "      <th>285</th>\n",
              "      <td>136</td>\n",
              "      <td>74</td>\n",
              "    </tr>\n",
              "  </tbody>\n",
              "</table>\n",
              "<p>796 rows × 2 columns</p>\n",
              "</div>\n",
              "      <button class=\"colab-df-convert\" onclick=\"convertToInteractive('df-527a9dda-ca37-468a-a380-5bbb6570a814')\"\n",
              "              title=\"Convert this dataframe to an interactive table.\"\n",
              "              style=\"display:none;\">\n",
              "        \n",
              "  <svg xmlns=\"http://www.w3.org/2000/svg\" height=\"24px\"viewBox=\"0 0 24 24\"\n",
              "       width=\"24px\">\n",
              "    <path d=\"M0 0h24v24H0V0z\" fill=\"none\"/>\n",
              "    <path d=\"M18.56 5.44l.94 2.06.94-2.06 2.06-.94-2.06-.94-.94-2.06-.94 2.06-2.06.94zm-11 1L8.5 8.5l.94-2.06 2.06-.94-2.06-.94L8.5 2.5l-.94 2.06-2.06.94zm10 10l.94 2.06.94-2.06 2.06-.94-2.06-.94-.94-2.06-.94 2.06-2.06.94z\"/><path d=\"M17.41 7.96l-1.37-1.37c-.4-.4-.92-.59-1.43-.59-.52 0-1.04.2-1.43.59L10.3 9.45l-7.72 7.72c-.78.78-.78 2.05 0 2.83L4 21.41c.39.39.9.59 1.41.59.51 0 1.02-.2 1.41-.59l7.78-7.78 2.81-2.81c.8-.78.8-2.07 0-2.86zM5.41 20L4 18.59l7.72-7.72 1.47 1.35L5.41 20z\"/>\n",
              "  </svg>\n",
              "      </button>\n",
              "      \n",
              "  <style>\n",
              "    .colab-df-container {\n",
              "      display:flex;\n",
              "      flex-wrap:wrap;\n",
              "      gap: 12px;\n",
              "    }\n",
              "\n",
              "    .colab-df-convert {\n",
              "      background-color: #E8F0FE;\n",
              "      border: none;\n",
              "      border-radius: 50%;\n",
              "      cursor: pointer;\n",
              "      display: none;\n",
              "      fill: #1967D2;\n",
              "      height: 32px;\n",
              "      padding: 0 0 0 0;\n",
              "      width: 32px;\n",
              "    }\n",
              "\n",
              "    .colab-df-convert:hover {\n",
              "      background-color: #E2EBFA;\n",
              "      box-shadow: 0px 1px 2px rgba(60, 64, 67, 0.3), 0px 1px 3px 1px rgba(60, 64, 67, 0.15);\n",
              "      fill: #174EA6;\n",
              "    }\n",
              "\n",
              "    [theme=dark] .colab-df-convert {\n",
              "      background-color: #3B4455;\n",
              "      fill: #D2E3FC;\n",
              "    }\n",
              "\n",
              "    [theme=dark] .colab-df-convert:hover {\n",
              "      background-color: #434B5C;\n",
              "      box-shadow: 0px 1px 3px 1px rgba(0, 0, 0, 0.15);\n",
              "      filter: drop-shadow(0px 1px 2px rgba(0, 0, 0, 0.3));\n",
              "      fill: #FFFFFF;\n",
              "    }\n",
              "  </style>\n",
              "\n",
              "      <script>\n",
              "        const buttonEl =\n",
              "          document.querySelector('#df-527a9dda-ca37-468a-a380-5bbb6570a814 button.colab-df-convert');\n",
              "        buttonEl.style.display =\n",
              "          google.colab.kernel.accessAllowed ? 'block' : 'none';\n",
              "\n",
              "        async function convertToInteractive(key) {\n",
              "          const element = document.querySelector('#df-527a9dda-ca37-468a-a380-5bbb6570a814');\n",
              "          const dataTable =\n",
              "            await google.colab.kernel.invokeFunction('convertToInteractive',\n",
              "                                                     [key], {});\n",
              "          if (!dataTable) return;\n",
              "\n",
              "          const docLinkHtml = 'Like what you see? Visit the ' +\n",
              "            '<a target=\"_blank\" href=https://colab.research.google.com/notebooks/data_table.ipynb>data table notebook</a>'\n",
              "            + ' to learn more about interactive tables.';\n",
              "          element.innerHTML = '';\n",
              "          dataTable['output_type'] = 'display_data';\n",
              "          await google.colab.output.renderOutput(dataTable, element);\n",
              "          const docLink = document.createElement('div');\n",
              "          docLink.innerHTML = docLinkHtml;\n",
              "          element.appendChild(docLink);\n",
              "        }\n",
              "      </script>\n",
              "    </div>\n",
              "  </div>\n",
              "  "
            ]
          },
          "metadata": {},
          "execution_count": 8
        }
      ]
    },
    {
      "cell_type": "code",
      "source": [
        "x_test"
      ],
      "metadata": {
        "colab": {
          "base_uri": "https://localhost:8080/",
          "height": 424
        },
        "id": "FuHlk0MsM9By",
        "outputId": "3dab78bf-d14f-4d3e-e214-7de47246405d"
      },
      "execution_count": null,
      "outputs": [
        {
          "output_type": "execute_result",
          "data": {
            "text/plain": [
              "     Glucose  BloodPressure\n",
              "326      122             64\n",
              "440      189            104\n",
              "135      125             60\n",
              "428      135             94\n",
              "151      114             65\n",
              "..       ...            ...\n",
              "22       196             90\n",
              "900      111             62\n",
              "276      106             60\n",
              "825      158             84\n",
              "240       91             64\n",
              "\n",
              "[199 rows x 2 columns]"
            ],
            "text/html": [
              "\n",
              "  <div id=\"df-4d685d07-f3af-4694-b99a-60880a56ff82\">\n",
              "    <div class=\"colab-df-container\">\n",
              "      <div>\n",
              "<style scoped>\n",
              "    .dataframe tbody tr th:only-of-type {\n",
              "        vertical-align: middle;\n",
              "    }\n",
              "\n",
              "    .dataframe tbody tr th {\n",
              "        vertical-align: top;\n",
              "    }\n",
              "\n",
              "    .dataframe thead th {\n",
              "        text-align: right;\n",
              "    }\n",
              "</style>\n",
              "<table border=\"1\" class=\"dataframe\">\n",
              "  <thead>\n",
              "    <tr style=\"text-align: right;\">\n",
              "      <th></th>\n",
              "      <th>Glucose</th>\n",
              "      <th>BloodPressure</th>\n",
              "    </tr>\n",
              "  </thead>\n",
              "  <tbody>\n",
              "    <tr>\n",
              "      <th>326</th>\n",
              "      <td>122</td>\n",
              "      <td>64</td>\n",
              "    </tr>\n",
              "    <tr>\n",
              "      <th>440</th>\n",
              "      <td>189</td>\n",
              "      <td>104</td>\n",
              "    </tr>\n",
              "    <tr>\n",
              "      <th>135</th>\n",
              "      <td>125</td>\n",
              "      <td>60</td>\n",
              "    </tr>\n",
              "    <tr>\n",
              "      <th>428</th>\n",
              "      <td>135</td>\n",
              "      <td>94</td>\n",
              "    </tr>\n",
              "    <tr>\n",
              "      <th>151</th>\n",
              "      <td>114</td>\n",
              "      <td>65</td>\n",
              "    </tr>\n",
              "    <tr>\n",
              "      <th>...</th>\n",
              "      <td>...</td>\n",
              "      <td>...</td>\n",
              "    </tr>\n",
              "    <tr>\n",
              "      <th>22</th>\n",
              "      <td>196</td>\n",
              "      <td>90</td>\n",
              "    </tr>\n",
              "    <tr>\n",
              "      <th>900</th>\n",
              "      <td>111</td>\n",
              "      <td>62</td>\n",
              "    </tr>\n",
              "    <tr>\n",
              "      <th>276</th>\n",
              "      <td>106</td>\n",
              "      <td>60</td>\n",
              "    </tr>\n",
              "    <tr>\n",
              "      <th>825</th>\n",
              "      <td>158</td>\n",
              "      <td>84</td>\n",
              "    </tr>\n",
              "    <tr>\n",
              "      <th>240</th>\n",
              "      <td>91</td>\n",
              "      <td>64</td>\n",
              "    </tr>\n",
              "  </tbody>\n",
              "</table>\n",
              "<p>199 rows × 2 columns</p>\n",
              "</div>\n",
              "      <button class=\"colab-df-convert\" onclick=\"convertToInteractive('df-4d685d07-f3af-4694-b99a-60880a56ff82')\"\n",
              "              title=\"Convert this dataframe to an interactive table.\"\n",
              "              style=\"display:none;\">\n",
              "        \n",
              "  <svg xmlns=\"http://www.w3.org/2000/svg\" height=\"24px\"viewBox=\"0 0 24 24\"\n",
              "       width=\"24px\">\n",
              "    <path d=\"M0 0h24v24H0V0z\" fill=\"none\"/>\n",
              "    <path d=\"M18.56 5.44l.94 2.06.94-2.06 2.06-.94-2.06-.94-.94-2.06-.94 2.06-2.06.94zm-11 1L8.5 8.5l.94-2.06 2.06-.94-2.06-.94L8.5 2.5l-.94 2.06-2.06.94zm10 10l.94 2.06.94-2.06 2.06-.94-2.06-.94-.94-2.06-.94 2.06-2.06.94z\"/><path d=\"M17.41 7.96l-1.37-1.37c-.4-.4-.92-.59-1.43-.59-.52 0-1.04.2-1.43.59L10.3 9.45l-7.72 7.72c-.78.78-.78 2.05 0 2.83L4 21.41c.39.39.9.59 1.41.59.51 0 1.02-.2 1.41-.59l7.78-7.78 2.81-2.81c.8-.78.8-2.07 0-2.86zM5.41 20L4 18.59l7.72-7.72 1.47 1.35L5.41 20z\"/>\n",
              "  </svg>\n",
              "      </button>\n",
              "      \n",
              "  <style>\n",
              "    .colab-df-container {\n",
              "      display:flex;\n",
              "      flex-wrap:wrap;\n",
              "      gap: 12px;\n",
              "    }\n",
              "\n",
              "    .colab-df-convert {\n",
              "      background-color: #E8F0FE;\n",
              "      border: none;\n",
              "      border-radius: 50%;\n",
              "      cursor: pointer;\n",
              "      display: none;\n",
              "      fill: #1967D2;\n",
              "      height: 32px;\n",
              "      padding: 0 0 0 0;\n",
              "      width: 32px;\n",
              "    }\n",
              "\n",
              "    .colab-df-convert:hover {\n",
              "      background-color: #E2EBFA;\n",
              "      box-shadow: 0px 1px 2px rgba(60, 64, 67, 0.3), 0px 1px 3px 1px rgba(60, 64, 67, 0.15);\n",
              "      fill: #174EA6;\n",
              "    }\n",
              "\n",
              "    [theme=dark] .colab-df-convert {\n",
              "      background-color: #3B4455;\n",
              "      fill: #D2E3FC;\n",
              "    }\n",
              "\n",
              "    [theme=dark] .colab-df-convert:hover {\n",
              "      background-color: #434B5C;\n",
              "      box-shadow: 0px 1px 3px 1px rgba(0, 0, 0, 0.15);\n",
              "      filter: drop-shadow(0px 1px 2px rgba(0, 0, 0, 0.3));\n",
              "      fill: #FFFFFF;\n",
              "    }\n",
              "  </style>\n",
              "\n",
              "      <script>\n",
              "        const buttonEl =\n",
              "          document.querySelector('#df-4d685d07-f3af-4694-b99a-60880a56ff82 button.colab-df-convert');\n",
              "        buttonEl.style.display =\n",
              "          google.colab.kernel.accessAllowed ? 'block' : 'none';\n",
              "\n",
              "        async function convertToInteractive(key) {\n",
              "          const element = document.querySelector('#df-4d685d07-f3af-4694-b99a-60880a56ff82');\n",
              "          const dataTable =\n",
              "            await google.colab.kernel.invokeFunction('convertToInteractive',\n",
              "                                                     [key], {});\n",
              "          if (!dataTable) return;\n",
              "\n",
              "          const docLinkHtml = 'Like what you see? Visit the ' +\n",
              "            '<a target=\"_blank\" href=https://colab.research.google.com/notebooks/data_table.ipynb>data table notebook</a>'\n",
              "            + ' to learn more about interactive tables.';\n",
              "          element.innerHTML = '';\n",
              "          dataTable['output_type'] = 'display_data';\n",
              "          await google.colab.output.renderOutput(dataTable, element);\n",
              "          const docLink = document.createElement('div');\n",
              "          docLink.innerHTML = docLinkHtml;\n",
              "          element.appendChild(docLink);\n",
              "        }\n",
              "      </script>\n",
              "    </div>\n",
              "  </div>\n",
              "  "
            ]
          },
          "metadata": {},
          "execution_count": 9
        }
      ]
    },
    {
      "cell_type": "code",
      "source": [
        "y_train"
      ],
      "metadata": {
        "colab": {
          "base_uri": "https://localhost:8080/"
        },
        "id": "KW6uab0aNCuc",
        "outputId": "c9f2e6fb-ae2a-40de-dd3b-19a14066d543"
      },
      "execution_count": null,
      "outputs": [
        {
          "output_type": "execute_result",
          "data": {
            "text/plain": [
              "567    0\n",
              "989    1\n",
              "614    1\n",
              "224    0\n",
              "336    0\n",
              "      ..\n",
              "264    1\n",
              "414    1\n",
              "77     0\n",
              "530    0\n",
              "285    0\n",
              "Name: Diabetes, Length: 796, dtype: int64"
            ]
          },
          "metadata": {},
          "execution_count": 10
        }
      ]
    },
    {
      "cell_type": "code",
      "source": [
        "y_test"
      ],
      "metadata": {
        "colab": {
          "base_uri": "https://localhost:8080/"
        },
        "id": "beMfNTz0NI1Q",
        "outputId": "6345e3a8-8e3f-466f-c8c5-8aec8dd22b42"
      },
      "execution_count": null,
      "outputs": [
        {
          "output_type": "execute_result",
          "data": {
            "text/plain": [
              "326    1\n",
              "440    1\n",
              "135    0\n",
              "428    0\n",
              "151    0\n",
              "      ..\n",
              "22     1\n",
              "900    0\n",
              "276    1\n",
              "825    1\n",
              "240    0\n",
              "Name: Diabetes, Length: 199, dtype: int64"
            ]
          },
          "metadata": {},
          "execution_count": 11
        }
      ]
    },
    {
      "cell_type": "code",
      "source": [
        "model = GaussianNB()\n",
        "model.fit(x_train, y_train)"
      ],
      "metadata": {
        "colab": {
          "base_uri": "https://localhost:8080/",
          "height": 75
        },
        "id": "a3tI8Av3OAlD",
        "outputId": "ac65c1d6-f59e-4e05-b750-dd73627ee03c"
      },
      "execution_count": null,
      "outputs": [
        {
          "output_type": "execute_result",
          "data": {
            "text/plain": [
              "GaussianNB()"
            ],
            "text/html": [
              "<style>#sk-container-id-1 {color: black;background-color: white;}#sk-container-id-1 pre{padding: 0;}#sk-container-id-1 div.sk-toggleable {background-color: white;}#sk-container-id-1 label.sk-toggleable__label {cursor: pointer;display: block;width: 100%;margin-bottom: 0;padding: 0.3em;box-sizing: border-box;text-align: center;}#sk-container-id-1 label.sk-toggleable__label-arrow:before {content: \"▸\";float: left;margin-right: 0.25em;color: #696969;}#sk-container-id-1 label.sk-toggleable__label-arrow:hover:before {color: black;}#sk-container-id-1 div.sk-estimator:hover label.sk-toggleable__label-arrow:before {color: black;}#sk-container-id-1 div.sk-toggleable__content {max-height: 0;max-width: 0;overflow: hidden;text-align: left;background-color: #f0f8ff;}#sk-container-id-1 div.sk-toggleable__content pre {margin: 0.2em;color: black;border-radius: 0.25em;background-color: #f0f8ff;}#sk-container-id-1 input.sk-toggleable__control:checked~div.sk-toggleable__content {max-height: 200px;max-width: 100%;overflow: auto;}#sk-container-id-1 input.sk-toggleable__control:checked~label.sk-toggleable__label-arrow:before {content: \"▾\";}#sk-container-id-1 div.sk-estimator input.sk-toggleable__control:checked~label.sk-toggleable__label {background-color: #d4ebff;}#sk-container-id-1 div.sk-label input.sk-toggleable__control:checked~label.sk-toggleable__label {background-color: #d4ebff;}#sk-container-id-1 input.sk-hidden--visually {border: 0;clip: rect(1px 1px 1px 1px);clip: rect(1px, 1px, 1px, 1px);height: 1px;margin: -1px;overflow: hidden;padding: 0;position: absolute;width: 1px;}#sk-container-id-1 div.sk-estimator {font-family: monospace;background-color: #f0f8ff;border: 1px dotted black;border-radius: 0.25em;box-sizing: border-box;margin-bottom: 0.5em;}#sk-container-id-1 div.sk-estimator:hover {background-color: #d4ebff;}#sk-container-id-1 div.sk-parallel-item::after {content: \"\";width: 100%;border-bottom: 1px solid gray;flex-grow: 1;}#sk-container-id-1 div.sk-label:hover label.sk-toggleable__label {background-color: #d4ebff;}#sk-container-id-1 div.sk-serial::before {content: \"\";position: absolute;border-left: 1px solid gray;box-sizing: border-box;top: 0;bottom: 0;left: 50%;z-index: 0;}#sk-container-id-1 div.sk-serial {display: flex;flex-direction: column;align-items: center;background-color: white;padding-right: 0.2em;padding-left: 0.2em;position: relative;}#sk-container-id-1 div.sk-item {position: relative;z-index: 1;}#sk-container-id-1 div.sk-parallel {display: flex;align-items: stretch;justify-content: center;background-color: white;position: relative;}#sk-container-id-1 div.sk-item::before, #sk-container-id-1 div.sk-parallel-item::before {content: \"\";position: absolute;border-left: 1px solid gray;box-sizing: border-box;top: 0;bottom: 0;left: 50%;z-index: -1;}#sk-container-id-1 div.sk-parallel-item {display: flex;flex-direction: column;z-index: 1;position: relative;background-color: white;}#sk-container-id-1 div.sk-parallel-item:first-child::after {align-self: flex-end;width: 50%;}#sk-container-id-1 div.sk-parallel-item:last-child::after {align-self: flex-start;width: 50%;}#sk-container-id-1 div.sk-parallel-item:only-child::after {width: 0;}#sk-container-id-1 div.sk-dashed-wrapped {border: 1px dashed gray;margin: 0 0.4em 0.5em 0.4em;box-sizing: border-box;padding-bottom: 0.4em;background-color: white;}#sk-container-id-1 div.sk-label label {font-family: monospace;font-weight: bold;display: inline-block;line-height: 1.2em;}#sk-container-id-1 div.sk-label-container {text-align: center;}#sk-container-id-1 div.sk-container {/* jupyter's `normalize.less` sets `[hidden] { display: none; }` but bootstrap.min.css set `[hidden] { display: none !important; }` so we also need the `!important` here to be able to override the default hidden behavior on the sphinx rendered scikit-learn.org. See: https://github.com/scikit-learn/scikit-learn/issues/21755 */display: inline-block !important;position: relative;}#sk-container-id-1 div.sk-text-repr-fallback {display: none;}</style><div id=\"sk-container-id-1\" class=\"sk-top-container\"><div class=\"sk-text-repr-fallback\"><pre>GaussianNB()</pre><b>In a Jupyter environment, please rerun this cell to show the HTML representation or trust the notebook. <br />On GitHub, the HTML representation is unable to render, please try loading this page with nbviewer.org.</b></div><div class=\"sk-container\" hidden><div class=\"sk-item\"><div class=\"sk-estimator sk-toggleable\"><input class=\"sk-toggleable__control sk-hidden--visually\" id=\"sk-estimator-id-1\" type=\"checkbox\" checked><label for=\"sk-estimator-id-1\" class=\"sk-toggleable__label sk-toggleable__label-arrow\">GaussianNB</label><div class=\"sk-toggleable__content\"><pre>GaussianNB()</pre></div></div></div></div></div>"
            ]
          },
          "metadata": {},
          "execution_count": 12
        }
      ]
    },
    {
      "cell_type": "code",
      "source": [
        "predicted_value = model.predict(x_test)\n",
        "predicted_value"
      ],
      "metadata": {
        "colab": {
          "base_uri": "https://localhost:8080/"
        },
        "id": "cvlJjOYiOEgY",
        "outputId": "b837dc21-f9f5-4b6d-d001-af4dd36a720a"
      },
      "execution_count": null,
      "outputs": [
        {
          "output_type": "execute_result",
          "data": {
            "text/plain": [
              "array([0, 1, 0, 0, 0, 0, 1, 0, 0, 0, 0, 0, 0, 0, 0, 0, 1, 0, 0, 0, 0, 0,\n",
              "       0, 0, 0, 0, 1, 0, 0, 0, 0, 0, 1, 0, 0, 1, 0, 0, 0, 1, 0, 1, 0, 0,\n",
              "       0, 1, 0, 0, 0, 0, 0, 0, 0, 0, 0, 0, 0, 0, 0, 0, 1, 0, 0, 0, 0, 0,\n",
              "       0, 0, 1, 0, 0, 0, 1, 1, 0, 0, 0, 1, 0, 1, 0, 0, 0, 0, 0, 0, 0, 0,\n",
              "       0, 0, 1, 0, 1, 0, 0, 0, 0, 1, 0, 0, 1, 0, 1, 0, 0, 1, 1, 0, 0, 0,\n",
              "       0, 0, 0, 0, 0, 1, 0, 0, 0, 0, 0, 0, 0, 1, 0, 0, 0, 0, 0, 1, 0, 1,\n",
              "       0, 1, 1, 1, 0, 0, 1, 0, 0, 0, 0, 1, 0, 0, 0, 0, 0, 1, 0, 0, 1, 1,\n",
              "       0, 0, 1, 0, 0, 0, 0, 1, 0, 0, 1, 0, 1, 1, 0, 0, 1, 0, 1, 0, 0, 0,\n",
              "       0, 0, 0, 0, 1, 0, 1, 0, 1, 0, 0, 1, 1, 0, 0, 0, 0, 0, 1, 0, 0, 1,\n",
              "       0])"
            ]
          },
          "metadata": {},
          "execution_count": 13
        }
      ]
    },
    {
      "cell_type": "markdown",
      "source": [
        "#Accuracy Score\n"
      ],
      "metadata": {
        "id": "5wqKQY0YPWXP"
      }
    },
    {
      "cell_type": "code",
      "source": [
        "accuracy_score(predicted_value,y_test)*100"
      ],
      "metadata": {
        "colab": {
          "base_uri": "https://localhost:8080/"
        },
        "id": "eGqfWzKDPX0t",
        "outputId": "2e0b805c-b94f-4db4-b002-183035276000"
      },
      "execution_count": null,
      "outputs": [
        {
          "output_type": "execute_result",
          "data": {
            "text/plain": [
              "77.38693467336684"
            ]
          },
          "metadata": {},
          "execution_count": 64
        }
      ]
    },
    {
      "cell_type": "code",
      "source": [
        "#Alternative code\n",
        "tp, fp, tn, fn = confusion_matrix(y_test, predicted_value).ravel()\n",
        "print(int((tp+tn)/199*100),\"%\")"
      ],
      "metadata": {
        "colab": {
          "base_uri": "https://localhost:8080/"
        },
        "outputId": "6d04aae2-6848-44df-f9d7-3dbacb0f9153",
        "id": "roMxtyss1CHm"
      },
      "execution_count": null,
      "outputs": [
        {
          "output_type": "stream",
          "name": "stdout",
          "text": [
            "75 %\n"
          ]
        }
      ]
    },
    {
      "cell_type": "markdown",
      "source": [
        "#Confusion Matrix"
      ],
      "metadata": {
        "id": "2qNO5hEWPqJZ"
      }
    },
    {
      "cell_type": "code",
      "source": [
        "from sklearn.metrics import confusion_matrix, accuracy_score"
      ],
      "metadata": {
        "id": "EnezZDB5Pt08"
      },
      "execution_count": null,
      "outputs": []
    },
    {
      "cell_type": "code",
      "source": [
        "confusion_matrix(predicted_value,y_test)"
      ],
      "metadata": {
        "colab": {
          "base_uri": "https://localhost:8080/"
        },
        "id": "4MPh4pZHPxJu",
        "outputId": "ed8e7707-e8a5-46e0-e15b-2d954d6495f5"
      },
      "execution_count": null,
      "outputs": [
        {
          "output_type": "execute_result",
          "data": {
            "text/plain": [
              "array([[116,  35],\n",
              "       [ 10,  38]])"
            ]
          },
          "metadata": {},
          "execution_count": 16
        }
      ]
    },
    {
      "cell_type": "markdown",
      "source": [
        "#Model Testing"
      ],
      "metadata": {
        "id": "O7I1JHRtP_NM"
      }
    },
    {
      "cell_type": "code",
      "source": [
        "df_sample = pd.DataFrame(columns=['Glucose', 'BloodPressure'])\n",
        "glucose = input('Enter Glucose:')\n",
        "bloodpressure = input('Enter Blood Pressure:')\n",
        "df_sample.loc[len(df_sample.index)] = [glucose, bloodpressure]"
      ],
      "metadata": {
        "colab": {
          "base_uri": "https://localhost:8080/"
        },
        "id": "BpegaX4RP5yj",
        "outputId": "fbe8b2aa-efe0-400b-e413-03a81e75b6b3"
      },
      "execution_count": null,
      "outputs": [
        {
          "name": "stdout",
          "output_type": "stream",
          "text": [
            "Enter Glucose:148\n",
            "Enter Blood Pressure:72\n"
          ]
        }
      ]
    },
    {
      "cell_type": "code",
      "source": [
        "df_sample"
      ],
      "metadata": {
        "colab": {
          "base_uri": "https://localhost:8080/",
          "height": 81
        },
        "id": "nm5oDJ-PRoXC",
        "outputId": "1349ec4f-17fd-4e89-f472-8864f2e47b11"
      },
      "execution_count": null,
      "outputs": [
        {
          "output_type": "execute_result",
          "data": {
            "text/plain": [
              "  Glucose BloodPressure\n",
              "0     148            72"
            ],
            "text/html": [
              "\n",
              "  <div id=\"df-9837cffd-21bf-4a73-ae69-2ec8689cbc07\">\n",
              "    <div class=\"colab-df-container\">\n",
              "      <div>\n",
              "<style scoped>\n",
              "    .dataframe tbody tr th:only-of-type {\n",
              "        vertical-align: middle;\n",
              "    }\n",
              "\n",
              "    .dataframe tbody tr th {\n",
              "        vertical-align: top;\n",
              "    }\n",
              "\n",
              "    .dataframe thead th {\n",
              "        text-align: right;\n",
              "    }\n",
              "</style>\n",
              "<table border=\"1\" class=\"dataframe\">\n",
              "  <thead>\n",
              "    <tr style=\"text-align: right;\">\n",
              "      <th></th>\n",
              "      <th>Glucose</th>\n",
              "      <th>BloodPressure</th>\n",
              "    </tr>\n",
              "  </thead>\n",
              "  <tbody>\n",
              "    <tr>\n",
              "      <th>0</th>\n",
              "      <td>148</td>\n",
              "      <td>72</td>\n",
              "    </tr>\n",
              "  </tbody>\n",
              "</table>\n",
              "</div>\n",
              "      <button class=\"colab-df-convert\" onclick=\"convertToInteractive('df-9837cffd-21bf-4a73-ae69-2ec8689cbc07')\"\n",
              "              title=\"Convert this dataframe to an interactive table.\"\n",
              "              style=\"display:none;\">\n",
              "        \n",
              "  <svg xmlns=\"http://www.w3.org/2000/svg\" height=\"24px\"viewBox=\"0 0 24 24\"\n",
              "       width=\"24px\">\n",
              "    <path d=\"M0 0h24v24H0V0z\" fill=\"none\"/>\n",
              "    <path d=\"M18.56 5.44l.94 2.06.94-2.06 2.06-.94-2.06-.94-.94-2.06-.94 2.06-2.06.94zm-11 1L8.5 8.5l.94-2.06 2.06-.94-2.06-.94L8.5 2.5l-.94 2.06-2.06.94zm10 10l.94 2.06.94-2.06 2.06-.94-2.06-.94-.94-2.06-.94 2.06-2.06.94z\"/><path d=\"M17.41 7.96l-1.37-1.37c-.4-.4-.92-.59-1.43-.59-.52 0-1.04.2-1.43.59L10.3 9.45l-7.72 7.72c-.78.78-.78 2.05 0 2.83L4 21.41c.39.39.9.59 1.41.59.51 0 1.02-.2 1.41-.59l7.78-7.78 2.81-2.81c.8-.78.8-2.07 0-2.86zM5.41 20L4 18.59l7.72-7.72 1.47 1.35L5.41 20z\"/>\n",
              "  </svg>\n",
              "      </button>\n",
              "      \n",
              "  <style>\n",
              "    .colab-df-container {\n",
              "      display:flex;\n",
              "      flex-wrap:wrap;\n",
              "      gap: 12px;\n",
              "    }\n",
              "\n",
              "    .colab-df-convert {\n",
              "      background-color: #E8F0FE;\n",
              "      border: none;\n",
              "      border-radius: 50%;\n",
              "      cursor: pointer;\n",
              "      display: none;\n",
              "      fill: #1967D2;\n",
              "      height: 32px;\n",
              "      padding: 0 0 0 0;\n",
              "      width: 32px;\n",
              "    }\n",
              "\n",
              "    .colab-df-convert:hover {\n",
              "      background-color: #E2EBFA;\n",
              "      box-shadow: 0px 1px 2px rgba(60, 64, 67, 0.3), 0px 1px 3px 1px rgba(60, 64, 67, 0.15);\n",
              "      fill: #174EA6;\n",
              "    }\n",
              "\n",
              "    [theme=dark] .colab-df-convert {\n",
              "      background-color: #3B4455;\n",
              "      fill: #D2E3FC;\n",
              "    }\n",
              "\n",
              "    [theme=dark] .colab-df-convert:hover {\n",
              "      background-color: #434B5C;\n",
              "      box-shadow: 0px 1px 3px 1px rgba(0, 0, 0, 0.15);\n",
              "      filter: drop-shadow(0px 1px 2px rgba(0, 0, 0, 0.3));\n",
              "      fill: #FFFFFF;\n",
              "    }\n",
              "  </style>\n",
              "\n",
              "      <script>\n",
              "        const buttonEl =\n",
              "          document.querySelector('#df-9837cffd-21bf-4a73-ae69-2ec8689cbc07 button.colab-df-convert');\n",
              "        buttonEl.style.display =\n",
              "          google.colab.kernel.accessAllowed ? 'block' : 'none';\n",
              "\n",
              "        async function convertToInteractive(key) {\n",
              "          const element = document.querySelector('#df-9837cffd-21bf-4a73-ae69-2ec8689cbc07');\n",
              "          const dataTable =\n",
              "            await google.colab.kernel.invokeFunction('convertToInteractive',\n",
              "                                                     [key], {});\n",
              "          if (!dataTable) return;\n",
              "\n",
              "          const docLinkHtml = 'Like what you see? Visit the ' +\n",
              "            '<a target=\"_blank\" href=https://colab.research.google.com/notebooks/data_table.ipynb>data table notebook</a>'\n",
              "            + ' to learn more about interactive tables.';\n",
              "          element.innerHTML = '';\n",
              "          dataTable['output_type'] = 'display_data';\n",
              "          await google.colab.output.renderOutput(dataTable, element);\n",
              "          const docLink = document.createElement('div');\n",
              "          docLink.innerHTML = docLinkHtml;\n",
              "          element.appendChild(docLink);\n",
              "        }\n",
              "      </script>\n",
              "    </div>\n",
              "  </div>\n",
              "  "
            ]
          },
          "metadata": {},
          "execution_count": 18
        }
      ]
    },
    {
      "cell_type": "markdown",
      "source": [
        "#Model Prediction"
      ],
      "metadata": {
        "id": "EextaBg7Rt5p"
      }
    },
    {
      "cell_type": "code",
      "source": [
        "model.predict(df_sample)"
      ],
      "metadata": {
        "colab": {
          "base_uri": "https://localhost:8080/"
        },
        "id": "BjfvpJauRw2n",
        "outputId": "3a19a2e6-0f94-4a97-ae68-593f58ad5679"
      },
      "execution_count": null,
      "outputs": [
        {
          "output_type": "execute_result",
          "data": {
            "text/plain": [
              "array([1])"
            ]
          },
          "metadata": {},
          "execution_count": 19
        }
      ]
    },
    {
      "cell_type": "markdown",
      "source": [
        "#Sample Python Program"
      ],
      "metadata": {
        "id": "iEdhz4A7Tisf"
      }
    },
    {
      "cell_type": "code",
      "source": [
        "prediction=model.predict(df_sample)\n",
        "if prediction == 0:\n",
        "  print(\"Not Diabetic\")\n",
        "else:\n",
        "  print(\"Diabetic\")"
      ],
      "metadata": {
        "colab": {
          "base_uri": "https://localhost:8080/"
        },
        "id": "8SHeLgeSTiYP",
        "outputId": "837043e5-7305-4722-c39e-1065b05357bd"
      },
      "execution_count": null,
      "outputs": [
        {
          "output_type": "stream",
          "name": "stdout",
          "text": [
            "Diabetic\n"
          ]
        }
      ]
    },
    {
      "cell_type": "markdown",
      "source": [
        "#Recall"
      ],
      "metadata": {
        "id": "yrsspF2aUPGK"
      }
    },
    {
      "cell_type": "code",
      "source": [
        "cf = confusion_matrix(y_test, predicted_value)\n",
        "cf[0,0]/(cf[0,0] + cf[1,0])*100"
      ],
      "metadata": {
        "colab": {
          "base_uri": "https://localhost:8080/"
        },
        "id": "gl4L81kRUdOM",
        "outputId": "cf60ad44-f20b-4547-fbc7-123692fe62db"
      },
      "execution_count": null,
      "outputs": [
        {
          "output_type": "execute_result",
          "data": {
            "text/plain": [
              "76.82119205298014"
            ]
          },
          "metadata": {},
          "execution_count": 59
        }
      ]
    },
    {
      "cell_type": "code",
      "source": [
        "#Alternative code\n",
        "tp, fp, tn, fn = confusion_matrix(y_test, predicted_value).ravel()\n",
        "print(int(tp/(tp+fn)*100),\"%\")"
      ],
      "metadata": {
        "colab": {
          "base_uri": "https://localhost:8080/"
        },
        "id": "JDN26kvfoq9W",
        "outputId": "a2a3810a-e067-4b78-8b7c-b01962405a41"
      },
      "execution_count": null,
      "outputs": [
        {
          "output_type": "stream",
          "name": "stdout",
          "text": [
            "75 %\n"
          ]
        }
      ]
    },
    {
      "cell_type": "markdown",
      "source": [
        "#Prescision"
      ],
      "metadata": {
        "id": "jCIVkgLjUOhd"
      }
    },
    {
      "cell_type": "code",
      "source": [
        "cf = confusion_matrix(predicted_value,y_test)\n",
        "cf[0,0]/(cf[0,0] + cf[1,1])*100"
      ],
      "metadata": {
        "colab": {
          "base_uri": "https://localhost:8080/"
        },
        "id": "fpNi3vb2d96X",
        "outputId": "af763579-c3c4-4567-9831-b4153e0ba765"
      },
      "execution_count": null,
      "outputs": [
        {
          "output_type": "execute_result",
          "data": {
            "text/plain": [
              "75.32467532467533"
            ]
          },
          "metadata": {},
          "execution_count": 58
        }
      ]
    },
    {
      "cell_type": "code",
      "source": [
        "#Alternative code\n",
        "tp, fp, tn, fn = confusion_matrix(y_test, predicted_value).ravel()\n",
        "print(int(tp/(tp+fp)*100),\"%\")"
      ],
      "metadata": {
        "colab": {
          "base_uri": "https://localhost:8080/"
        },
        "id": "q1fhedxd2YhU",
        "outputId": "40dc2999-4303-40d7-ab79-70f0c6fe0133"
      },
      "execution_count": null,
      "outputs": [
        {
          "output_type": "stream",
          "name": "stdout",
          "text": [
            "92 %\n"
          ]
        }
      ]
    },
    {
      "cell_type": "markdown",
      "source": [
        "#Computation and result of Type 1 and 2 errors"
      ],
      "metadata": {
        "id": "4C3r4PH_t4tU"
      }
    },
    {
      "cell_type": "markdown",
      "source": [],
      "metadata": {
        "id": "WBb9-MLgvhu0"
      }
    },
    {
      "cell_type": "code",
      "source": [
        "#case 1\n",
        "df_sample = pd.DataFrame(columns=['Glucose', 'BloodPressure'])\n",
        "glucose = input('Enter Glucose:')\n",
        "bloodpressure = input('Enter Blood Pressure:')\n",
        "df_sample.loc[len(df_sample.index)] = [glucose, bloodpressure]\n",
        "prediction=model.predict(df_sample)\n",
        "if prediction == 0:\n",
        "  print(\"Congratulations, You are not Diabetic.\\n\")\n",
        "  print(\"Recommendations for preventing diabetes:\")\n",
        "  print(\"- Maintain a healthy weight through regular exercise and a balanced diet, as excess weight can increase the risk of developing diabetes.\")\n",
        "  print(\"- Eat a balanced diet that is rich in fruits, vegetables, whole grains, lean protein, and healthy fats, and limit processed and sugary foods.\")\n",
        "  print(\"- Exercise regularly, as it can help improve insulin sensitivity, lower blood sugar levels, and improve overall health.\")\n",
        "  print(\"- Quit smoking, as smoking can increase the risk of developing diabetes.\")\n",
        "  print(\"- Monitor blood pressure and cholesterol levels, as both can contribute to the development of diabetes and other health problems.\")\n",
        "  print(\"- Manage stress levels, as stress can impact overall health.\")\n",
        "\n",
        "else:\n",
        "  print(\"I'm sorry to tell that you are Diabetic.\\n\")\n",
        "  print(\"Recommendations for managing diabetes and promoting overall health:\")\n",
        "  print(\"- Monitor blood sugar levels through monitoring, medication, and lifestyle changes such as regular exercise and a healthy diet.\")\n",
        "  print(\"- Eat a balanced diet that is rich in fruits, vegetables, whole grains, lean protein, and healthy fats, and limit processed and sugary foods.\")\n",
        "  print(\"- Exercise regularly, as it can help improve insulin sensitivity, lower blood sugar levels, and improve overall health.\")\n",
        "  print(\"- Quit smoking, as smoking can increase the risk of complications associated with diabetes, such as heart disease and nerve damage.\")\n",
        "  print(\"- Monitor blood pressure and cholesterol levels, as both can contribute to the development of complications associated with diabetes.\")\n",
        "  print(\"- Manage stress levels, as stress can impact blood sugar levels and overall health.\")\n"
      ],
      "metadata": {
        "colab": {
          "base_uri": "https://localhost:8080/"
        },
        "id": "1FM2tGXFuGvU",
        "outputId": "ef0ffa78-445a-41bb-920b-142ecdd4fc7b"
      },
      "execution_count": null,
      "outputs": [
        {
          "output_type": "stream",
          "name": "stdout",
          "text": [
            "Enter Glucose:148\n",
            "Enter Blood Pressure:72\n",
            "I'm sorry to tell that you are Diabetic.\n",
            "\n",
            "Recommendations for managing diabetes and promoting overall health:\n",
            "- Monitor blood sugar levels through monitoring, medication, and lifestyle changes such as regular exercise and a healthy diet.\n",
            "- Eat a balanced diet that is rich in fruits, vegetables, whole grains, lean protein, and healthy fats, and limit processed and sugary foods.\n",
            "- Exercise regularly, as it can help improve insulin sensitivity, lower blood sugar levels, and improve overall health.\n",
            "- Quit smoking, as smoking can increase the risk of complications associated with diabetes, such as heart disease and nerve damage.\n",
            "- Monitor blood pressure and cholesterol levels, as both can contribute to the development of complications associated with diabetes.\n",
            "- Manage stress levels, as stress can impact blood sugar levels and overall health.\n"
          ]
        }
      ]
    },
    {
      "cell_type": "markdown",
      "source": [
        "> This is a case of True Positive\n",
        "\n",
        "Because the Diabetes Value is 1 and the given variables for blood pressure(72) as well as glucose(148) are correct"
      ],
      "metadata": {
        "id": "wvyfBMImvk3m"
      }
    },
    {
      "cell_type": "code",
      "source": [
        "#case 2\n",
        "df_sample = pd.DataFrame(columns=['Glucose', 'BloodPressure'])\n",
        "glucose = input('Enter Glucose:')\n",
        "bloodpressure = input('Enter Blood Pressure:')\n",
        "df_sample.loc[len(df_sample.index)] = [glucose, bloodpressure]\n",
        "prediction=model.predict(df_sample)\n",
        "if prediction == 0:\n",
        "  print(\"Congratulations, You are not Diabetic.\\n\")\n",
        "  print(\"Recommendations for preventing diabetes:\")\n",
        "  print(\"- Maintain a healthy weight through regular exercise and a balanced diet, as excess weight can increase the risk of developing diabetes.\")\n",
        "  print(\"- Eat a balanced diet that is rich in fruits, vegetables, whole grains, lean protein, and healthy fats, and limit processed and sugary foods.\")\n",
        "  print(\"- Exercise regularly, as it can help improve insulin sensitivity, lower blood sugar levels, and improve overall health.\")\n",
        "  print(\"- Quit smoking, as smoking can increase the risk of developing diabetes.\")\n",
        "  print(\"- Monitor blood pressure and cholesterol levels, as both can contribute to the development of diabetes and other health problems.\")\n",
        "  print(\"- Manage stress levels, as stress can impact overall health.\")\n",
        "\n",
        "else:\n",
        "  print(\"I'm sorry to tell that you are Diabetic.\\n\")\n",
        "  print(\"Recommendations for managing diabetes and promoting overall health:\")\n",
        "  print(\"- Monitor blood sugar levels through monitoring, medication, and lifestyle changes such as regular exercise and a healthy diet.\")\n",
        "  print(\"- Eat a balanced diet that is rich in fruits, vegetables, whole grains, lean protein, and healthy fats, and limit processed and sugary foods.\")\n",
        "  print(\"- Exercise regularly, as it can help improve insulin sensitivity, lower blood sugar levels, and improve overall health.\")\n",
        "  print(\"- Quit smoking, as smoking can increase the risk of complications associated with diabetes, such as heart disease and nerve damage.\")\n",
        "  print(\"- Monitor blood pressure and cholesterol levels, as both can contribute to the development of complications associated with diabetes.\")\n",
        "  print(\"- Manage stress levels, as stress can impact blood sugar levels and overall health.\")\n"
      ],
      "metadata": {
        "colab": {
          "base_uri": "https://localhost:8080/"
        },
        "outputId": "830a3a59-0574-4b80-fe80-79f967183ac6",
        "id": "LJSjYv76ugMI"
      },
      "execution_count": null,
      "outputs": [
        {
          "output_type": "stream",
          "name": "stdout",
          "text": [
            "Enter Glucose:85\n",
            "Enter Blood Pressure:66\n",
            "Congratulations, You are not Diabetic.\n",
            "\n",
            "Recommendations for preventing diabetes:\n",
            "- Maintain a healthy weight through regular exercise and a balanced diet, as excess weight can increase the risk of developing diabetes.\n",
            "- Eat a balanced diet that is rich in fruits, vegetables, whole grains, lean protein, and healthy fats, and limit processed and sugary foods.\n",
            "- Exercise regularly, as it can help improve insulin sensitivity, lower blood sugar levels, and improve overall health.\n",
            "- Quit smoking, as smoking can increase the risk of developing diabetes.\n",
            "- Monitor blood pressure and cholesterol levels, as both can contribute to the development of diabetes and other health problems.\n",
            "- Manage stress levels, as stress can impact overall health.\n"
          ]
        }
      ]
    },
    {
      "cell_type": "markdown",
      "source": [
        "> This is a case of True Negative\n",
        "\n",
        "Because the Diabetes Value is 0 and the given variables for blood pressure(66) as well as glucose(85) are correct"
      ],
      "metadata": {
        "id": "Qu1Pi9ffv6VO"
      }
    },
    {
      "cell_type": "code",
      "source": [
        "#case 3\n",
        "df_sample = pd.DataFrame(columns=['Glucose', 'BloodPressure'])\n",
        "glucose = input('Enter Glucose:')\n",
        "bloodpressure = input('Enter Blood Pressure:')\n",
        "df_sample.loc[len(df_sample.index)] = [glucose, bloodpressure]\n",
        "prediction=model.predict(df_sample)\n",
        "if prediction == 0:\n",
        "  print(\"Congratulations, You are not Diabetic.\\n\")\n",
        "  print(\"Recommendations for preventing diabetes:\")\n",
        "  print(\"- Maintain a healthy weight through regular exercise and a balanced diet, as excess weight can increase the risk of developing diabetes.\")\n",
        "  print(\"- Eat a balanced diet that is rich in fruits, vegetables, whole grains, lean protein, and healthy fats, and limit processed and sugary foods.\")\n",
        "  print(\"- Exercise regularly, as it can help improve insulin sensitivity, lower blood sugar levels, and improve overall health.\")\n",
        "  print(\"- Quit smoking, as smoking can increase the risk of developing diabetes.\")\n",
        "  print(\"- Monitor blood pressure and cholesterol levels, as both can contribute to the development of diabetes and other health problems.\")\n",
        "  print(\"- Manage stress levels, as stress can impact overall health.\")\n",
        "\n",
        "else:\n",
        "  print(\"I'm sorry to tell that you are Diabetic.\\n\")\n",
        "  print(\"Recommendations for managing diabetes and promoting overall health:\")\n",
        "  print(\"- Monitor blood sugar levels through monitoring, medication, and lifestyle changes such as regular exercise and a healthy diet.\")\n",
        "  print(\"- Eat a balanced diet that is rich in fruits, vegetables, whole grains, lean protein, and healthy fats, and limit processed and sugary foods.\")\n",
        "  print(\"- Exercise regularly, as it can help improve insulin sensitivity, lower blood sugar levels, and improve overall health.\")\n",
        "  print(\"- Quit smoking, as smoking can increase the risk of complications associated with diabetes, such as heart disease and nerve damage.\")\n",
        "  print(\"- Monitor blood pressure and cholesterol levels, as both can contribute to the development of complications associated with diabetes.\")\n",
        "  print(\"- Manage stress levels, as stress can impact blood sugar levels and overall health.\")\n"
      ],
      "metadata": {
        "colab": {
          "base_uri": "https://localhost:8080/"
        },
        "outputId": "cc7fcf66-89b1-4fda-b711-598eea4064bb",
        "id": "dbU0hyhSum-v"
      },
      "execution_count": null,
      "outputs": [
        {
          "output_type": "stream",
          "name": "stdout",
          "text": [
            "Enter Glucose:116\n",
            "Enter Blood Pressure:74\n",
            "Congratulations, You are not Diabetic.\n",
            "\n",
            "Recommendations for preventing diabetes:\n",
            "- Maintain a healthy weight through regular exercise and a balanced diet, as excess weight can increase the risk of developing diabetes.\n",
            "- Eat a balanced diet that is rich in fruits, vegetables, whole grains, lean protein, and healthy fats, and limit processed and sugary foods.\n",
            "- Exercise regularly, as it can help improve insulin sensitivity, lower blood sugar levels, and improve overall health.\n",
            "- Quit smoking, as smoking can increase the risk of developing diabetes.\n",
            "- Monitor blood pressure and cholesterol levels, as both can contribute to the development of diabetes and other health problems.\n",
            "- Manage stress levels, as stress can impact overall health.\n"
          ]
        }
      ]
    },
    {
      "cell_type": "markdown",
      "source": [
        "> This is a case of True Negative\n",
        "\n",
        "Because the Diabetes Value is 1 and the given variables for blood pressure(72) as well as glucose(148) are correct"
      ],
      "metadata": {
        "id": "4UNX8VkhzEpB"
      }
    },
    {
      "cell_type": "code",
      "source": [
        "#case 4\n",
        "df_sample = pd.DataFrame(columns=['Glucose', 'BloodPressure'])\n",
        "glucose = input('Enter Glucose:')\n",
        "bloodpressure = input('Enter Blood Pressure:')\n",
        "df_sample.loc[len(df_sample.index)] = [glucose, bloodpressure]\n",
        "prediction=model.predict(df_sample)\n",
        "if prediction == 0:\n",
        "  print(\"Congratulations, You are not Diabetic.\\n\")\n",
        "  print(\"Recommendations for preventing diabetes:\")\n",
        "  print(\"- Maintain a healthy weight through regular exercise and a balanced diet, as excess weight can increase the risk of developing diabetes.\")\n",
        "  print(\"- Eat a balanced diet that is rich in fruits, vegetables, whole grains, lean protein, and healthy fats, and limit processed and sugary foods.\")\n",
        "  print(\"- Exercise regularly, as it can help improve insulin sensitivity, lower blood sugar levels, and improve overall health.\")\n",
        "  print(\"- Quit smoking, as smoking can increase the risk of developing diabetes.\")\n",
        "  print(\"- Monitor blood pressure and cholesterol levels, as both can contribute to the development of diabetes and other health problems.\")\n",
        "  print(\"- Manage stress levels, as stress can impact overall health.\")\n",
        "\n",
        "else:\n",
        "  print(\"I'm sorry to tell that you are Diabetic.\\n\")\n",
        "  print(\"Recommendations for managing diabetes and promoting overall health:\")\n",
        "  print(\"- Monitor blood sugar levels through monitoring, medication, and lifestyle changes such as regular exercise and a healthy diet.\")\n",
        "  print(\"- Eat a balanced diet that is rich in fruits, vegetables, whole grains, lean protein, and healthy fats, and limit processed and sugary foods.\")\n",
        "  print(\"- Exercise regularly, as it can help improve insulin sensitivity, lower blood sugar levels, and improve overall health.\")\n",
        "  print(\"- Quit smoking, as smoking can increase the risk of complications associated with diabetes, such as heart disease and nerve damage.\")\n",
        "  print(\"- Monitor blood pressure and cholesterol levels, as both can contribute to the development of complications associated with diabetes.\")\n",
        "  print(\"- Manage stress levels, as stress can impact blood sugar levels and overall health.\")\n"
      ],
      "metadata": {
        "colab": {
          "base_uri": "https://localhost:8080/"
        },
        "outputId": "7511bd56-22b8-4fd2-cb65-ff669851f5d5",
        "id": "Mvq-4XLwurSR"
      },
      "execution_count": null,
      "outputs": [
        {
          "output_type": "stream",
          "name": "stdout",
          "text": [
            "Enter Glucose:122\n",
            "Enter Blood Pressure:90\n",
            "Congratulations, You are not Diabetic.\n",
            "\n",
            "Recommendations for preventing diabetes:\n",
            "- Maintain a healthy weight through regular exercise and a balanced diet, as excess weight can increase the risk of developing diabetes.\n",
            "- Eat a balanced diet that is rich in fruits, vegetables, whole grains, lean protein, and healthy fats, and limit processed and sugary foods.\n",
            "- Exercise regularly, as it can help improve insulin sensitivity, lower blood sugar levels, and improve overall health.\n",
            "- Quit smoking, as smoking can increase the risk of developing diabetes.\n",
            "- Monitor blood pressure and cholesterol levels, as both can contribute to the development of diabetes and other health problems.\n",
            "- Manage stress levels, as stress can impact overall health.\n"
          ]
        }
      ]
    },
    {
      "cell_type": "markdown",
      "source": [
        "> This is a case of False Negative (Type 2 Error)\n",
        "\n",
        "Because the Glucose Level of 122 and Blood Pressure of 90 is Diabetic in the Dataset."
      ],
      "metadata": {
        "id": "VRpUdA9Lz0zj"
      }
    },
    {
      "cell_type": "code",
      "source": [
        "#case 5\n",
        "df_sample = pd.DataFrame(columns=['Glucose', 'BloodPressure'])\n",
        "glucose = input('Enter Glucose:')\n",
        "bloodpressure = input('Enter Blood Pressure:')\n",
        "df_sample.loc[len(df_sample.index)] = [glucose, bloodpressure]\n",
        "prediction=model.predict(df_sample)\n",
        "if prediction == 0:\n",
        "  print(\"Congratulations, You are not Diabetic.\\n\")\n",
        "  print(\"Recommendations for preventing diabetes:\")\n",
        "  print(\"- Maintain a healthy weight through regular exercise and a balanced diet, as excess weight can increase the risk of developing diabetes.\")\n",
        "  print(\"- Eat a balanced diet that is rich in fruits, vegetables, whole grains, lean protein, and healthy fats, and limit processed and sugary foods.\")\n",
        "  print(\"- Exercise regularly, as it can help improve insulin sensitivity, lower blood sugar levels, and improve overall health.\")\n",
        "  print(\"- Quit smoking, as smoking can increase the risk of developing diabetes.\")\n",
        "  print(\"- Monitor blood pressure and cholesterol levels, as both can contribute to the development of diabetes and other health problems.\")\n",
        "  print(\"- Manage stress levels, as stress can impact overall health.\")\n",
        "\n",
        "else:\n",
        "  print(\"I'm sorry to tell that you are Diabetic.\\n\")\n",
        "  print(\"Recommendations for managing diabetes and promoting overall health:\")\n",
        "  print(\"- Monitor blood sugar levels through monitoring, medication, and lifestyle changes such as regular exercise and a healthy diet.\")\n",
        "  print(\"- Eat a balanced diet that is rich in fruits, vegetables, whole grains, lean protein, and healthy fats, and limit processed and sugary foods.\")\n",
        "  print(\"- Exercise regularly, as it can help improve insulin sensitivity, lower blood sugar levels, and improve overall health.\")\n",
        "  print(\"- Quit smoking, as smoking can increase the risk of complications associated with diabetes, such as heart disease and nerve damage.\")\n",
        "  print(\"- Monitor blood pressure and cholesterol levels, as both can contribute to the development of complications associated with diabetes.\")\n",
        "  print(\"- Manage stress levels, as stress can impact blood sugar levels and overall health.\")\n"
      ],
      "metadata": {
        "colab": {
          "base_uri": "https://localhost:8080/"
        },
        "outputId": "851aa150-eca8-48f3-ba25-306dea060e53",
        "id": "F71YSAlOuvjD"
      },
      "execution_count": null,
      "outputs": [
        {
          "output_type": "stream",
          "name": "stdout",
          "text": [
            "Enter Glucose:125\n",
            "Enter Blood Pressure:96\n",
            "Congratulations, You are not Diabetic.\n",
            "\n",
            "Recommendations for preventing diabetes:\n",
            "- Maintain a healthy weight through regular exercise and a balanced diet, as excess weight can increase the risk of developing diabetes.\n",
            "- Eat a balanced diet that is rich in fruits, vegetables, whole grains, lean protein, and healthy fats, and limit processed and sugary foods.\n",
            "- Exercise regularly, as it can help improve insulin sensitivity, lower blood sugar levels, and improve overall health.\n",
            "- Quit smoking, as smoking can increase the risk of developing diabetes.\n",
            "- Monitor blood pressure and cholesterol levels, as both can contribute to the development of diabetes and other health problems.\n",
            "- Manage stress levels, as stress can impact overall health.\n"
          ]
        }
      ]
    },
    {
      "cell_type": "markdown",
      "source": [
        "> This is a case of False Negative (Type 2 Error)\n",
        "\n",
        "Because the Glucose Level of 125 and Blood Pressure of 96 is Diabetic in the Dataset."
      ],
      "metadata": {
        "id": "wlh0vnxpu9-y"
      }
    }
  ]
}
